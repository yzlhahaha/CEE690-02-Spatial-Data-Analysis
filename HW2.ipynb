{
 "cells": [
  {
   "cell_type": "markdown",
   "metadata": {},
   "source": [
    "# Assignment #2"
   ]
  },
  {
   "cell_type": "markdown",
   "metadata": {},
   "source": [
    "# 1. Numpy basics (10 points)"
   ]
  },
  {
   "cell_type": "markdown",
   "metadata": {},
   "source": [
    "**1.1** Import numpy as np into the Jupyter Notebook"
   ]
  },
  {
   "cell_type": "code",
   "execution_count": 76,
   "metadata": {},
   "outputs": [],
   "source": [
    "import numpy as np"
   ]
  },
  {
   "cell_type": "markdown",
   "metadata": {},
   "source": [
    "**1.2** Print out the methods and variables associated with the module numpy. "
   ]
  },
  {
   "cell_type": "code",
   "execution_count": 77,
   "metadata": {},
   "outputs": [
    {
     "name": "stdout",
     "output_type": "stream",
     "text": [
      "['ALLOW_THREADS', 'AxisError', 'BUFSIZE', 'CLIP', 'ComplexWarning', 'DataSource', 'ERR_CALL', 'ERR_DEFAULT', 'ERR_IGNORE', 'ERR_LOG', 'ERR_PRINT', 'ERR_RAISE', 'ERR_WARN', 'FLOATING_POINT_SUPPORT', 'FPE_DIVIDEBYZERO', 'FPE_INVALID', 'FPE_OVERFLOW', 'FPE_UNDERFLOW', 'False_', 'Inf', 'Infinity', 'MAXDIMS', 'MAY_SHARE_BOUNDS', 'MAY_SHARE_EXACT', 'MachAr', 'ModuleDeprecationWarning', 'NAN', 'NINF', 'NZERO', 'NaN', 'PINF', 'PZERO', 'RAISE', 'RankWarning', 'SHIFT_DIVIDEBYZERO', 'SHIFT_INVALID', 'SHIFT_OVERFLOW', 'SHIFT_UNDERFLOW', 'ScalarType', 'Tester', 'TooHardError', 'True_', 'UFUNC_BUFSIZE_DEFAULT', 'UFUNC_PYVALS_NAME', 'VisibleDeprecationWarning', 'WRAP', '_NoValue', '_UFUNC_API', '__NUMPY_SETUP__', '__all__', '__builtins__', '__cached__', '__config__', '__doc__', '__file__', '__git_revision__', '__loader__', '__name__', '__package__', '__path__', '__spec__', '__version__', '_add_newdoc_ufunc', '_distributor_init', '_globals', '_mat', '_pytesttester', 'abs', 'absolute', 'absolute_import', 'add', 'add_docstring', 'add_newdoc', 'add_newdoc_ufunc', 'alen', 'all', 'allclose', 'alltrue', 'amax', 'amin', 'angle', 'any', 'append', 'apply_along_axis', 'apply_over_axes', 'arange', 'arccos', 'arccosh', 'arcsin', 'arcsinh', 'arctan', 'arctan2', 'arctanh', 'argmax', 'argmin', 'argpartition', 'argsort', 'argwhere', 'around', 'array', 'array2string', 'array_equal', 'array_equiv', 'array_repr', 'array_split', 'array_str', 'asanyarray', 'asarray', 'asarray_chkfinite', 'ascontiguousarray', 'asfarray', 'asfortranarray', 'asmatrix', 'asscalar', 'atleast_1d', 'atleast_2d', 'atleast_3d', 'average', 'bartlett', 'base_repr', 'binary_repr', 'bincount', 'bitwise_and', 'bitwise_not', 'bitwise_or', 'bitwise_xor', 'blackman', 'block', 'bmat', 'bool', 'bool8', 'bool_', 'broadcast', 'broadcast_arrays', 'broadcast_to', 'busday_count', 'busday_offset', 'busdaycalendar', 'byte', 'byte_bounds', 'bytes0', 'bytes_', 'c_', 'can_cast', 'cast', 'cbrt', 'cdouble', 'ceil', 'cfloat', 'char', 'character', 'chararray', 'choose', 'clip', 'clongdouble', 'clongfloat', 'column_stack', 'common_type', 'compare_chararrays', 'compat', 'complex', 'complex128', 'complex256', 'complex64', 'complex_', 'complexfloating', 'compress', 'concatenate', 'conj', 'conjugate', 'convolve', 'copy', 'copysign', 'copyto', 'core', 'corrcoef', 'correlate', 'cos', 'cosh', 'count_nonzero', 'cov', 'cross', 'csingle', 'ctypeslib', 'cumprod', 'cumproduct', 'cumsum', 'datetime64', 'datetime_as_string', 'datetime_data', 'deg2rad', 'degrees', 'delete', 'deprecate', 'deprecate_with_doc', 'diag', 'diag_indices', 'diag_indices_from', 'diagflat', 'diagonal', 'diff', 'digitize', 'disp', 'divide', 'division', 'divmod', 'dot', 'double', 'dsplit', 'dstack', 'dtype', 'e', 'ediff1d', 'einsum', 'einsum_path', 'emath', 'empty', 'empty_like', 'equal', 'errstate', 'euler_gamma', 'exp', 'exp2', 'expand_dims', 'expm1', 'extract', 'eye', 'fabs', 'fastCopyAndTranspose', 'fft', 'fill_diagonal', 'find_common_type', 'finfo', 'fix', 'flatiter', 'flatnonzero', 'flexible', 'flip', 'fliplr', 'flipud', 'float', 'float128', 'float16', 'float32', 'float64', 'float_', 'float_power', 'floating', 'floor', 'floor_divide', 'fmax', 'fmin', 'fmod', 'format_float_positional', 'format_float_scientific', 'format_parser', 'frexp', 'frombuffer', 'fromfile', 'fromfunction', 'fromiter', 'frompyfunc', 'fromregex', 'fromstring', 'full', 'full_like', 'fv', 'gcd', 'generic', 'genfromtxt', 'geomspace', 'get_array_wrap', 'get_include', 'get_printoptions', 'getbufsize', 'geterr', 'geterrcall', 'geterrobj', 'gradient', 'greater', 'greater_equal', 'half', 'hamming', 'hanning', 'heaviside', 'histogram', 'histogram2d', 'histogram_bin_edges', 'histogramdd', 'hsplit', 'hstack', 'hypot', 'i0', 'identity', 'iinfo', 'imag', 'in1d', 'index_exp', 'indices', 'inexact', 'inf', 'info', 'infty', 'inner', 'insert', 'int', 'int0', 'int16', 'int32', 'int64', 'int8', 'int_', 'int_asbuffer', 'intc', 'integer', 'interp', 'intersect1d', 'intp', 'invert', 'ipmt', 'irr', 'is_busday', 'isclose', 'iscomplex', 'iscomplexobj', 'isfinite', 'isfortran', 'isin', 'isinf', 'isnan', 'isnat', 'isneginf', 'isposinf', 'isreal', 'isrealobj', 'isscalar', 'issctype', 'issubclass_', 'issubdtype', 'issubsctype', 'iterable', 'ix_', 'kaiser', 'kron', 'lcm', 'ldexp', 'left_shift', 'less', 'less_equal', 'lexsort', 'lib', 'linalg', 'linspace', 'little_endian', 'load', 'loads', 'loadtxt', 'log', 'log10', 'log1p', 'log2', 'logaddexp', 'logaddexp2', 'logical_and', 'logical_not', 'logical_or', 'logical_xor', 'logspace', 'long', 'longcomplex', 'longdouble', 'longfloat', 'longlong', 'lookfor', 'ma', 'mafromtxt', 'mask_indices', 'mat', 'math', 'matmul', 'matrix', 'matrixlib', 'max', 'maximum', 'maximum_sctype', 'may_share_memory', 'mean', 'median', 'memmap', 'meshgrid', 'mgrid', 'min', 'min_scalar_type', 'minimum', 'mintypecode', 'mirr', 'mod', 'modf', 'moveaxis', 'msort', 'multiply', 'nan', 'nan_to_num', 'nanargmax', 'nanargmin', 'nancumprod', 'nancumsum', 'nanmax', 'nanmean', 'nanmedian', 'nanmin', 'nanpercentile', 'nanprod', 'nanquantile', 'nanstd', 'nansum', 'nanvar', 'nbytes', 'ndarray', 'ndenumerate', 'ndfromtxt', 'ndim', 'ndindex', 'nditer', 'negative', 'nested_iters', 'newaxis', 'nextafter', 'nonzero', 'not_equal', 'nper', 'npv', 'numarray', 'number', 'obj2sctype', 'object', 'object0', 'object_', 'ogrid', 'oldnumeric', 'ones', 'ones_like', 'outer', 'packbits', 'pad', 'partition', 'percentile', 'pi', 'piecewise', 'place', 'pmt', 'poly', 'poly1d', 'polyadd', 'polyder', 'polydiv', 'polyfit', 'polyint', 'polymul', 'polynomial', 'polysub', 'polyval', 'positive', 'power', 'ppmt', 'print_function', 'printoptions', 'prod', 'product', 'promote_types', 'ptp', 'put', 'put_along_axis', 'putmask', 'pv', 'quantile', 'r_', 'rad2deg', 'radians', 'random', 'rank', 'rate', 'ravel', 'ravel_multi_index', 'real', 'real_if_close', 'rec', 'recarray', 'recfromcsv', 'recfromtxt', 'reciprocal', 'record', 'remainder', 'repeat', 'require', 'reshape', 'resize', 'result_type', 'right_shift', 'rint', 'roll', 'rollaxis', 'roots', 'rot90', 'round', 'round_', 'row_stack', 's_', 'safe_eval', 'save', 'savetxt', 'savez', 'savez_compressed', 'sctype2char', 'sctypeDict', 'sctypeNA', 'sctypes', 'searchsorted', 'select', 'set_numeric_ops', 'set_printoptions', 'set_string_function', 'setbufsize', 'setdiff1d', 'seterr', 'seterrcall', 'seterrobj', 'setxor1d', 'shape', 'shares_memory', 'short', 'show_config', 'sign', 'signbit', 'signedinteger', 'sin', 'sinc', 'single', 'singlecomplex', 'sinh', 'size', 'sometrue', 'sort', 'sort_complex', 'source', 'spacing', 'split', 'sqrt', 'square', 'squeeze', 'stack', 'std', 'str', 'str0', 'str_', 'string_', 'subtract', 'sum', 'swapaxes', 'sys', 'take', 'take_along_axis', 'tan', 'tanh', 'tensordot', 'test', 'testing', 'tile', 'timedelta64', 'trace', 'tracemalloc_domain', 'transpose', 'trapz', 'tri', 'tril', 'tril_indices', 'tril_indices_from', 'trim_zeros', 'triu', 'triu_indices', 'triu_indices_from', 'true_divide', 'trunc', 'typeDict', 'typeNA', 'typecodes', 'typename', 'ubyte', 'ufunc', 'uint', 'uint0', 'uint16', 'uint32', 'uint64', 'uint8', 'uintc', 'uintp', 'ulonglong', 'unicode', 'unicode_', 'union1d', 'unique', 'unpackbits', 'unravel_index', 'unsignedinteger', 'unwrap', 'ushort', 'vander', 'var', 'vdot', 'vectorize', 'version', 'void', 'void0', 'vsplit', 'vstack', 'warnings', 'where', 'who', 'zeros', 'zeros_like']\n"
     ]
    }
   ],
   "source": [
    "print(dir(np))"
   ]
  },
  {
   "cell_type": "markdown",
   "metadata": {},
   "source": [
    "## 2. Arrays (15 points)"
   ]
  },
  {
   "cell_type": "markdown",
   "metadata": {},
   "source": [
    "**2.1** Create an evenly spaced 1D array of latitude values starting at -90.0 degrees and ending at 90.0 degrees with a pixel size of 1.0 degree [Hint: Use np.linspace()]. "
   ]
  },
  {
   "cell_type": "code",
   "execution_count": 78,
   "metadata": {},
   "outputs": [
    {
     "data": {
      "text/plain": [
       "array([-90., -89., -88., -87., -86., -85., -84., -83., -82., -81., -80.,\n",
       "       -79., -78., -77., -76., -75., -74., -73., -72., -71., -70., -69.,\n",
       "       -68., -67., -66., -65., -64., -63., -62., -61., -60., -59., -58.,\n",
       "       -57., -56., -55., -54., -53., -52., -51., -50., -49., -48., -47.,\n",
       "       -46., -45., -44., -43., -42., -41., -40., -39., -38., -37., -36.,\n",
       "       -35., -34., -33., -32., -31., -30., -29., -28., -27., -26., -25.,\n",
       "       -24., -23., -22., -21., -20., -19., -18., -17., -16., -15., -14.,\n",
       "       -13., -12., -11., -10.,  -9.,  -8.,  -7.,  -6.,  -5.,  -4.,  -3.,\n",
       "        -2.,  -1.,   0.,   1.,   2.,   3.,   4.,   5.,   6.,   7.,   8.,\n",
       "         9.,  10.,  11.,  12.,  13.,  14.,  15.,  16.,  17.,  18.,  19.,\n",
       "        20.,  21.,  22.,  23.,  24.,  25.,  26.,  27.,  28.,  29.,  30.,\n",
       "        31.,  32.,  33.,  34.,  35.,  36.,  37.,  38.,  39.,  40.,  41.,\n",
       "        42.,  43.,  44.,  45.,  46.,  47.,  48.,  49.,  50.,  51.,  52.,\n",
       "        53.,  54.,  55.,  56.,  57.,  58.,  59.,  60.,  61.,  62.,  63.,\n",
       "        64.,  65.,  66.,  67.,  68.,  69.,  70.,  71.,  72.,  73.,  74.,\n",
       "        75.,  76.,  77.,  78.,  79.,  80.,  81.,  82.,  83.,  84.,  85.,\n",
       "        86.,  87.,  88.,  89.,  90.])"
      ]
     },
     "execution_count": 78,
     "metadata": {},
     "output_type": "execute_result"
    }
   ],
   "source": [
    "np.linspace(-90, 90, 181)"
   ]
  },
  {
   "cell_type": "markdown",
   "metadata": {},
   "source": [
    "**2.2** Convert the following list of lists into a 2D numpy array"
   ]
  },
  {
   "cell_type": "code",
   "execution_count": 79,
   "metadata": {},
   "outputs": [
    {
     "name": "stdout",
     "output_type": "stream",
     "text": [
      "[[3 4]\n",
      " [4 5]]\n"
     ]
    }
   ],
   "source": [
    "data_list = np.array([[3,4],[4,5]])\n",
    "print(data_list)"
   ]
  },
  {
   "cell_type": "markdown",
   "metadata": {},
   "source": [
    "**2.3** Stack the following 1D arrays vertically into a single 2D array."
   ]
  },
  {
   "cell_type": "code",
   "execution_count": 7,
   "metadata": {},
   "outputs": [
    {
     "name": "stdout",
     "output_type": "stream",
     "text": [
      "[[1 1 1 1]\n",
      " [2 2 2 2]]\n",
      "[[1 1 1 1]\n",
      " [2 2 2 2]]\n",
      "1\n"
     ]
    }
   ],
   "source": [
    "A = np.array([1,1,1,1])\n",
    "B = np.array([2,2,2,2])\n",
    "C = np.stack((A, B), axis = 0)\n",
    "print(np.stack((A, B), axis = 0))\n",
    "print(C)\n",
    "print(C[0][1])"
   ]
  },
  {
   "cell_type": "markdown",
   "metadata": {},
   "source": [
    "**2.4** Compute the unique values of the following array. Note that simply writing them out is not sufficient."
   ]
  },
  {
   "cell_type": "code",
   "execution_count": 81,
   "metadata": {},
   "outputs": [
    {
     "name": "stdout",
     "output_type": "stream",
     "text": [
      "[1 2 3 4 5 6 7 8 9]\n"
     ]
    }
   ],
   "source": [
    "np.random.seed(1)\n",
    "A = np.random.randint(1,10,10000)\n",
    "print(np.unique(A))"
   ]
  },
  {
   "cell_type": "markdown",
   "metadata": {},
   "source": [
    "**2.5** Reshape the defined 1D array A into a 2D array B. The size of each dimension of B should be defined as the square root of the total size of A. Remember that the computed dimensions of B need to be integers."
   ]
  },
  {
   "cell_type": "code",
   "execution_count": 82,
   "metadata": {},
   "outputs": [
    {
     "name": "stdout",
     "output_type": "stream",
     "text": [
      "[[ 0  1  2  3  4  5  6  7  8  9]\n",
      " [10 11 12 13 14 15 16 17 18 19]\n",
      " [20 21 22 23 24 25 26 27 28 29]\n",
      " [30 31 32 33 34 35 36 37 38 39]\n",
      " [40 41 42 43 44 45 46 47 48 49]\n",
      " [50 51 52 53 54 55 56 57 58 59]\n",
      " [60 61 62 63 64 65 66 67 68 69]\n",
      " [70 71 72 73 74 75 76 77 78 79]\n",
      " [80 81 82 83 84 85 86 87 88 89]\n",
      " [90 91 92 93 94 95 96 97 98 99]]\n"
     ]
    }
   ],
   "source": [
    "A = np.arange(100)\n",
    "print(np.reshape(A, (10, 10)))"
   ]
  },
  {
   "cell_type": "markdown",
   "metadata": {},
   "source": [
    "## 3. Mathematics  (15 points)"
   ]
  },
  {
   "cell_type": "markdown",
   "metadata": {},
   "source": [
    "**3.1** Create a function that uses a for loop to compute the sum of all the elements in the array A. Use %timeit to compute the time it takes to run the defined function. "
   ]
  },
  {
   "cell_type": "code",
   "execution_count": 83,
   "metadata": {},
   "outputs": [
    {
     "name": "stdout",
     "output_type": "stream",
     "text": [
      "218 µs ± 5.21 µs per loop (mean ± std. dev. of 7 runs, 1000 loops each)\n"
     ]
    }
   ],
   "source": [
    "np.random.seed(1)\n",
    "A = np.random.randn(1000)\n",
    "\n",
    "def total(x):\n",
    "    y = 0\n",
    "    for i in x:\n",
    "        y += i\n",
    "    return(y)\n",
    "\n",
    "%timeit total(A)"
   ]
  },
  {
   "cell_type": "markdown",
   "metadata": {},
   "source": [
    "**3.2** Now use the function np.sum() to compute the sum of the defined array A. Use %timeit to compute the time it takes to run the operation. Using the Markdown language in the additional cell below, compare the timing results with those from exercise **3.1**."
   ]
  },
  {
   "cell_type": "code",
   "execution_count": 84,
   "metadata": {},
   "outputs": [
    {
     "name": "stdout",
     "output_type": "stream",
     "text": [
      "5.24 µs ± 199 ns per loop (mean ± std. dev. of 7 runs, 100000 loops each)\n"
     ]
    }
   ],
   "source": [
    "np.random.seed(1)\n",
    "A = np.random.randn(1000)\n",
    "\n",
    "%timeit np.sum(A)"
   ]
  },
  {
   "cell_type": "markdown",
   "metadata": {},
   "source": []
  },
  {
   "cell_type": "markdown",
   "metadata": {},
   "source": [
    "**3.3** Compute the element-wise addition of the defined arrays A and B. The results should be assigned to a variable C. Then compute and print the mean, sum, standard deviation, maximum, minimum, and median of the resulting array. "
   ]
  },
  {
   "cell_type": "code",
   "execution_count": 106,
   "metadata": {},
   "outputs": [
    {
     "name": "stdout",
     "output_type": "stream",
     "text": [
      "[ 1.62434536e+00 -6.11756414e-01 -5.28171752e-01 -1.07296862e+00\n",
      "  8.65407629e-01 -2.30153870e+00  1.74481176e+00 -7.61206901e-01\n",
      "  3.19039096e-01 -2.49370375e-01  1.46210794e+00 -2.06014071e+00\n",
      " -3.22417204e-01 -3.84054355e-01  1.13376944e+00 -1.09989127e+00\n",
      " -1.72428208e-01 -8.77858418e-01  4.22137467e-02  5.82815214e-01\n",
      " -1.10061918e+00  1.14472371e+00  9.01590721e-01  5.02494339e-01\n",
      "  9.00855949e-01 -6.83727859e-01 -1.22890226e-01 -9.35769434e-01\n",
      " -2.67888080e-01  5.30355467e-01 -6.91660752e-01 -3.96753527e-01\n",
      " -6.87172700e-01 -8.45205641e-01 -6.71246131e-01 -1.26645989e-02\n",
      " -1.11731035e+00  2.34415698e-01  1.65980218e+00  7.42044161e-01\n",
      " -1.91835552e-01 -8.87628964e-01 -7.47158294e-01  1.69245460e+00\n",
      "  5.08077548e-02 -6.36995647e-01  1.90915485e-01  2.10025514e+00\n",
      "  1.20158952e-01  6.17203110e-01  3.00170320e-01 -3.52249846e-01\n",
      " -1.14251820e+00 -3.49342722e-01 -2.08894233e-01  5.86623191e-01\n",
      "  8.38983414e-01  9.31102081e-01  2.85587325e-01  8.85141164e-01\n",
      " -7.54397941e-01  1.25286816e+00  5.12929820e-01 -2.98092835e-01\n",
      "  4.88518147e-01 -7.55717130e-02  1.13162939e+00  1.51981682e+00\n",
      "  2.18557541e+00 -1.39649634e+00 -1.44411381e+00 -5.04465863e-01\n",
      "  1.60037069e-01  8.76168921e-01  3.15634947e-01 -2.02220122e+00\n",
      " -3.06204013e-01  8.27974643e-01  2.30094735e-01  7.62011180e-01\n",
      " -2.22328143e-01 -2.00758069e-01  1.86561391e-01  4.10051647e-01\n",
      "  1.98299720e-01  1.19008646e-01 -6.70662286e-01  3.77563786e-01\n",
      "  1.21821271e-01  1.12948391e+00  1.19891788e+00  1.85156417e-01\n",
      " -3.75284950e-01 -6.38730407e-01  4.23494354e-01  7.73400683e-02\n",
      " -3.43853676e-01  4.35968568e-02 -6.20000844e-01  6.98032034e-01\n",
      " -4.47128565e-01  1.22450770e+00  4.03491642e-01  5.93578523e-01\n",
      " -1.09491185e+00  1.69382433e-01  7.40556451e-01 -9.53700602e-01\n",
      " -2.66218506e-01  3.26145467e-02 -1.37311732e+00  3.15159392e-01\n",
      "  8.46160648e-01 -8.59515941e-01  3.50545979e-01 -1.31228341e+00\n",
      " -3.86955093e-02 -1.61577235e+00  1.12141771e+00  4.08900538e-01\n",
      " -2.46169559e-02 -7.75161619e-01  1.27375593e+00  1.96710175e+00\n",
      " -1.85798186e+00  1.23616403e+00  1.62765075e+00  3.38011697e-01\n",
      " -1.19926803e+00  8.63345318e-01 -1.80920302e-01 -6.03920628e-01\n",
      " -1.23005814e+00  5.50537496e-01  7.92806866e-01 -6.23530730e-01\n",
      "  5.20576337e-01 -1.14434139e+00  8.01861032e-01  4.65672984e-02\n",
      " -1.86569772e-01 -1.01745873e-01  8.68886157e-01  7.50411640e-01\n",
      "  5.29465324e-01  1.37701210e-01  7.78211279e-02  6.18380262e-01\n",
      "  2.32494559e-01  6.82551407e-01 -3.10116774e-01 -2.43483776e+00\n",
      "  1.03882460e+00  2.18697965e+00  4.41364444e-01 -1.00155233e-01\n",
      " -1.36444744e-01 -1.19054188e-01  1.74094083e-02 -1.12201873e+00\n",
      " -5.17094458e-01 -9.97026828e-01  2.48799161e-01 -2.96641152e-01\n",
      "  4.95211324e-01 -1.74703160e-01  9.86335188e-01  2.13533901e-01\n",
      "  2.19069973e+00 -1.89636092e+00 -6.46916688e-01  9.01486892e-01\n",
      "  2.52832571e+00 -2.48634778e-01  4.36689932e-02 -2.26314243e-01\n",
      "  1.33145711e+00 -2.87307863e-01  6.80069840e-01 -3.19801599e-01\n",
      " -1.27255876e+00  3.13547720e-01  5.03184813e-01  1.29322588e+00\n",
      " -1.10447026e-01 -6.17362064e-01  5.62761097e-01  2.40737092e-01\n",
      "  2.80665077e-01 -7.31127037e-02  1.16033857e+00  3.69492716e-01\n",
      "  1.90465871e+00  1.11105670e+00  6.59049796e-01 -1.62743834e+00\n",
      "  6.02319280e-01  4.20282204e-01  8.10951673e-01  1.04444209e+00\n",
      " -4.00878192e-01  8.24005618e-01 -5.62305431e-01  1.95487808e+00\n",
      " -1.33195167e+00 -1.76068856e+00 -1.65072127e+00 -8.90555584e-01\n",
      " -1.11911540e+00  1.95607890e+00 -3.26499498e-01 -1.34267579e+00\n",
      "  1.11438298e+00 -5.86523939e-01 -1.23685338e+00  8.75838928e-01\n",
      "  6.23362177e-01 -4.34956683e-01  1.40754000e+00  1.29101580e-01\n",
      "  1.61694960e+00  5.02740882e-01  1.55880554e+00  1.09402696e-01\n",
      " -1.21974440e+00  2.44936865e+00 -5.45774168e-01 -1.98837863e-01\n",
      " -7.00398505e-01 -2.03394449e-01  2.42669441e-01  2.01830179e-01\n",
      "  6.61020288e-01  1.79215821e+00 -1.20464572e-01 -1.23312074e+00\n",
      " -1.18231813e+00 -6.65754518e-01 -1.67419581e+00  8.25029824e-01\n",
      " -4.98213564e-01 -3.10984978e-01 -1.89148284e-03 -1.39662042e+00\n",
      " -8.61316361e-01  6.74711526e-01  6.18539131e-01 -4.43171931e-01\n",
      "  1.81053491e+00 -1.30572692e+00 -3.44987210e-01 -2.30839743e-01\n",
      " -2.79308500e+00  1.93752881e+00  3.66332015e-01 -1.04458938e+00\n",
      "  2.05117344e+00  5.85662000e-01  4.29526140e-01 -6.06998398e-01\n",
      "  1.06222724e-01 -1.52568032e+00  7.95026094e-01 -3.74438319e-01\n",
      "  1.34048197e-01  1.20205486e+00  2.84748111e-01  2.62467445e-01\n",
      "  2.76499305e-01 -7.33271604e-01  8.36004719e-01  1.54335911e+00\n",
      "  7.58805660e-01  8.84908814e-01 -8.77281519e-01 -8.67787223e-01\n",
      " -1.44087602e+00  1.23225307e+00 -2.54179868e-01  1.39984394e+00\n",
      " -7.81911683e-01 -4.37508983e-01  9.54250872e-02  9.21450069e-01\n",
      "  6.07501958e-02  2.11124755e-01  1.65275673e-02  1.77187720e-01\n",
      " -1.11647002e+00  8.09271010e-02 -1.86578994e-01 -5.68244809e-02\n",
      "  4.92336556e-01 -6.80678141e-01 -8.45080274e-02 -2.97361883e-01\n",
      "  4.17302005e-01  7.84770651e-01 -9.55425262e-01  5.85910431e-01\n",
      "  2.06578332e+00 -1.47115693e+00 -8.30171895e-01 -8.80577600e-01\n",
      " -2.79097722e-01  1.62284909e+00  1.33526763e-02 -6.94693595e-01\n",
      "  6.21803504e-01 -5.99804531e-01  1.12341216e+00  3.05267040e-01\n",
      "  1.38877940e+00 -6.61344243e-01  3.03085711e+00  8.24584625e-01\n",
      "  6.54580153e-01 -5.11884476e-02 -7.25597119e-01 -8.67768678e-01\n",
      " -1.35977326e-01 -7.97269785e-01  2.82675712e-01 -8.26097432e-01\n",
      "  6.21082701e-01  9.56121704e-01 -7.05840507e-01  1.19268607e+00\n",
      " -2.37941936e-01  1.15528789e+00  4.38166347e-01  1.12232832e+00\n",
      " -9.97019796e-01 -1.06793987e-01  1.45142926e+00 -6.18036848e-01\n",
      " -2.03720123e+00 -1.94258918e+00 -2.50644065e+00 -2.11416392e+00\n",
      " -4.11639163e-01  1.27852808e+00 -4.42229280e-01  3.23527354e-01\n",
      " -1.09991490e-01  8.54894544e-03 -1.68198840e-01 -1.74180344e-01\n",
      "  4.61164100e-01 -1.17598267e+00  1.01012718e+00  9.20017933e-01\n",
      " -1.95057341e-01  8.05393424e-01 -7.01344426e-01 -5.37223024e-01\n",
      "  1.56263850e-01 -1.90221025e-01 -4.48738033e-01 -6.72448039e-01\n",
      " -5.57494722e-01  9.39168744e-01 -1.94332341e+00  3.52494364e-01\n",
      " -2.36436952e-01  7.27813500e-01  5.15073614e-01 -2.78253447e+00\n",
      "  5.84646610e-01  3.24274243e-01  2.18628366e-02 -4.68673816e-01\n",
      "  8.53281222e-01 -4.13029310e-01  1.83471763e+00  5.64382855e-01\n",
      "  2.13782807e+00 -7.85533997e-01 -1.75592564e+00  7.14789597e-01\n",
      "  8.52704062e-01  3.53600971e-02 -1.53879325e+00 -4.47895185e-01\n",
      "  6.17985534e-01 -1.84176326e-01 -1.15985185e-01 -1.75458969e-01\n",
      " -9.33914656e-01 -5.33020326e-01 -1.42655542e+00  1.76795995e+00\n",
      " -4.75372875e-01  4.77610182e-01 -1.02188594e+00  7.94528240e-01\n",
      " -1.87316098e+00  9.20615118e-01 -3.53679249e-02  2.11060505e+00\n",
      " -1.30653407e+00  7.63804802e-02  3.67231814e-01  1.23289919e+00\n",
      " -4.22856961e-01  8.64644065e-02 -2.14246673e+00 -8.30168864e-01\n",
      "  4.51615951e-01  1.10417433e+00 -2.81736269e-01  2.05635552e+00\n",
      "  1.76024923e+00 -6.06524918e-02 -2.41350300e+00 -1.77756638e+00\n",
      " -7.77858827e-01  1.11584111e+00  3.10272288e-01 -2.09424782e+00\n",
      " -2.28765829e-01  1.61336137e+00 -3.74804687e-01 -7.49969617e-01\n",
      "  2.05462410e+00  5.34095368e-02 -4.79157099e-01  3.50167159e-01\n",
      "  1.71647264e-02 -4.29142278e-01  1.20845633e+00  1.11570180e+00\n",
      "  8.40861558e-01 -1.02887218e-01  1.14690038e+00 -4.97025792e-02\n",
      "  4.66643267e-01  1.03368687e+00  8.08844360e-01  1.78975468e+00\n",
      "  4.51284016e-01 -1.68405999e+00 -1.16017010e+00  1.35010682e+00\n",
      " -3.31283170e-01  3.86539145e-01 -8.51455657e-01  1.00088142e+00\n",
      " -3.84832249e-01  1.45810824e+00 -5.32234021e-01  1.11813340e+00\n",
      "  6.74396105e-01 -7.22391905e-01  1.09899633e+00 -9.01634490e-01\n",
      " -8.22467189e-01  7.21711292e-01 -6.25342001e-01 -5.93843067e-01\n",
      " -3.43900709e-01 -1.00016919e+00  1.04499441e+00  6.08514698e-01\n",
      " -6.93286967e-02 -1.08392067e-01  4.50155513e-01  1.76533510e+00\n",
      "  8.70969803e-01 -5.08457134e-01  7.77419205e-01 -1.18771172e-01\n",
      " -1.98998184e-01  1.86647138e+00 -4.18937898e-01 -4.79184915e-01\n",
      " -1.95210529e+00 -1.40232915e+00  4.51122939e-01 -6.94920901e-01\n",
      "  5.15413802e-01 -1.11487105e+00 -7.67309826e-01  6.74570707e-01\n",
      "  1.46089238e+00  5.92472801e-01  1.19783084e+00  1.70459417e+00\n",
      "  1.04008915e+00 -9.18440038e-01 -1.05344713e-01  6.30195671e-01\n",
      " -4.14846901e-01  4.51946037e-01 -1.57915629e+00 -8.28627979e-01\n",
      "  5.28879746e-01 -2.23708651e+00 -1.10771250e+00 -1.77183179e-02\n",
      " -1.71939447e+00  5.71209961e-02 -7.99547491e-01 -2.91594596e-01\n",
      " -2.58982853e-01  1.89293198e-01 -5.63788735e-01  8.96864073e-02\n",
      " -6.01156801e-01  5.56073510e-01  1.69380911e+00  1.96869779e-01\n",
      "  1.69869255e-01 -1.16400797e+00  6.93366226e-01 -7.58067329e-01\n",
      " -8.08847196e-01  5.57439453e-01  1.81038744e-01  1.10717545e+00\n",
      "  1.44287693e+00 -5.39681562e-01  1.28376990e-01  1.76041518e+00\n",
      "  9.66539250e-01  7.13049050e-01  1.30620607e+00 -6.04602969e-01\n",
      "  6.36583409e-01  1.40925339e+00  1.62091229e+00 -8.06184817e-01\n",
      " -2.51674208e-01  3.82715174e-01 -2.88997343e-01 -3.91816240e-01\n",
      "  6.84001328e-01 -3.53409983e-01 -1.78791289e+00  3.61847316e-01\n",
      " -4.24492791e-01 -7.31530982e-01 -1.56573815e+00  1.01382247e+00\n",
      " -2.22711263e+00 -1.69933360e+00 -2.75846063e-01  1.22895559e+00\n",
      "  1.30970591e+00 -1.15498263e+00 -1.77632196e-01 -1.51045638e+00\n",
      "  1.01120706e+00 -1.47656266e+00 -1.43195745e-01  1.03298378e+00\n",
      " -2.22414029e-01  1.47016034e+00 -8.70008223e-01  3.69190470e-01\n",
      "  8.53282186e-01 -1.39711730e-01  1.38631426e+00  5.48129585e-01\n",
      " -1.63744959e+00  3.95860270e+00  6.48643644e-01  1.07343294e-01\n",
      " -1.39881282e+00  8.17678188e-02 -4.59942831e-01  6.44353666e-01\n",
      "  3.71670291e-01  1.85300949e+00  1.42251373e-01  5.13505480e-01\n",
      "  3.72456852e-01 -1.48489803e-01 -1.83400197e-01  1.10100020e+00\n",
      "  7.80027135e-01 -6.29441604e-01 -1.11343610e+00 -6.74100249e-02\n",
      "  1.16143998e+00 -2.75293863e-02  1.74643509e+00 -7.75070287e-01\n",
      "  1.41640538e-01 -2.51630386e+00 -5.95667881e-01 -3.09121319e-01\n",
      "  5.10937774e-01  1.71066184e+00  3.49435894e-02  1.45391758e+00\n",
      "  6.61681076e-01  9.86352180e-01 -4.66154857e-01  1.38499134e+00\n",
      " -1.07296428e+00  4.95158611e-01 -9.52062101e-01 -5.18145552e-01\n",
      " -1.46140360e+00 -5.16347909e-01  3.51116897e-01 -6.87704631e-02\n",
      " -1.34776494e+00  1.47073986e+00  3.37220938e-01  1.00806543e+00\n",
      "  7.85226920e-01 -6.64867767e-01 -1.94504696e+00 -9.15424368e-01\n",
      "  1.22515585e+00 -1.05354607e+00  8.16043684e-01 -6.12406973e-01\n",
      "  3.93109245e-01 -1.82391985e+00  1.16707517e+00 -3.96687001e-02\n",
      "  8.85825799e-01  1.89861649e-01  7.98063795e-01 -1.01932039e-01\n",
      "  7.43356544e-01 -1.50957268e+00 -1.08071069e+00  7.25474004e-01\n",
      " -3.91782562e-02 -2.28754171e-01 -1.79612295e-01  5.01725109e-01\n",
      " -5.93343754e-01  5.10307597e-01 -9.15791849e-01 -4.07252043e-01\n",
      "  9.84951672e-01  1.07125243e+00 -1.09715436e+00  8.38634747e-01\n",
      " -1.03918232e+00  7.33023232e-01 -1.89881206e+00 -1.11711069e+00\n",
      " -5.08972278e-01 -1.66485955e-01  1.42361443e+00  9.03999174e-01\n",
      "  1.57546791e+00  1.20660790e+00 -2.82863552e-01 -2.66326884e-01\n",
      "  1.06897162e+00  4.03714310e-02 -1.56993672e-01 -1.33520272e+00\n",
      " -1.06460122e-01 -2.79099641e+00 -4.56117555e-01 -9.79890252e-01\n",
      "  6.92574348e-01 -4.78672356e-01 -3.29051549e-01  1.34710546e+00\n",
      " -1.04906775e+00  3.16658895e-01 -1.89526695e+00  8.97291174e-02\n",
      "  4.10265745e-01  8.59870972e-01 -8.98683193e-01  3.19656942e-01\n",
      "  3.18154200e-01 -1.92316341e-02  1.50016279e-01  4.63534322e-01\n",
      "  3.97880425e-01 -9.96010889e-01 -1.19586151e+00  2.50598029e+00\n",
      "  1.91979229e+00 -1.39169388e+00  4.50217742e-01  6.27437083e-01\n",
      "  7.51337235e-01  1.40395436e-01 -9.26871939e-01 -1.82420406e-01\n",
      " -4.91125138e-01  1.34373116e-01 -2.68371304e-01 -1.31675626e-01\n",
      "  1.01855247e+00  1.23055820e+00 -1.18110317e+00 -4.59930104e-01\n",
      " -7.90799954e-01  1.22372221e+00 -5.93679025e-02  1.44898940e+00\n",
      " -4.77580855e-01  2.59999942e-02 -1.34869645e+00  1.30253554e+00\n",
      " -3.62612088e-01 -1.48515645e+00 -5.92461285e-01 -2.30490794e+00\n",
      " -3.18171727e-02  1.12487742e-01  2.88078167e-01  1.49810818e+00\n",
      " -3.00976154e-01  8.07455917e-01  3.12238689e-01 -1.93321640e-01\n",
      " -2.07680202e+00  9.47501167e-01 -5.03973949e-01  1.79558917e-02\n",
      " -1.27046078e+00  2.82995534e-01  1.08030817e-01  2.94176190e-02\n",
      " -1.34793129e-01  1.04921829e+00  9.66220863e-01  7.25916853e-01\n",
      "  3.32107876e+00 -6.00225330e-01 -3.79517516e-01 -1.01480369e+00\n",
      "  4.35986196e-01 -6.87487393e-01 -2.69836174e+00 -1.21333813e+00\n",
      "  7.22518992e-02  1.00978733e+00 -1.55694156e+00 -6.12442128e-01\n",
      " -1.39351805e-01 -7.28537489e-01  5.31163793e-01  4.00084198e-03\n",
      "  3.21265914e-01 -7.25214926e-01  1.53653633e+00 -3.75008758e-04\n",
      "  1.29354962e+00 -4.38997664e-01  5.90039464e-01 -6.79383783e-01\n",
      " -9.50909251e-01 -7.04350332e-01 -4.58666861e-02 -2.18733459e-01\n",
      "  1.53920701e+00 -1.14870423e+00 -1.09033833e+00  1.70018815e+00\n",
      "  6.08783659e-01 -1.88141087e+00  4.97269099e-01  2.37332699e-01\n",
      " -2.14444405e+00 -3.69562425e-01 -1.74549518e-02  7.31402517e-01\n",
      "  9.54495667e-01  9.57467711e-02  1.03345080e+00 -1.46273275e-01\n",
      " -8.57496825e-01 -9.34181843e-01  5.42645295e-01 -1.95816909e+00\n",
      "  6.77807571e-01 -1.10657307e+00 -3.59224096e-01  5.05381903e-01\n",
      "  1.21794090e+00 -1.94068096e+00 -8.06178212e-01  4.90616924e-02\n",
      " -5.96086335e-01  8.61623101e-01 -2.08639057e+00  3.61801641e-01\n",
      "  4.25920177e-01  4.90803971e-02  1.10223673e+00 -1.22957425e+00\n",
      "  1.10861676e+00 -7.02920403e-01  7.25550518e-01 -3.24204219e-01\n",
      "  8.14343129e-01  7.80469930e-01 -1.46405357e+00 -1.54491194e-01\n",
      " -9.24323185e-02 -2.37875265e-01 -7.55662765e-01  1.85143789e+00\n",
      "  2.09096677e-01  1.55501599e+00 -5.69148654e-01 -1.06179676e+00\n",
      "  1.32247779e-01 -5.63236604e-01  2.39014596e+00  2.45422849e-01\n",
      "  1.15259914e+00 -2.24235772e-01 -3.26061306e-01 -3.09114176e-02\n",
      "  3.55717262e-01  8.49586845e-01 -1.22154015e-01 -6.80851574e-01\n",
      " -1.06787658e+00 -7.66793627e-02  5.72962726e-01  4.57947076e-01\n",
      " -1.78175491e-02 -6.00138799e-01  1.46765263e-01  5.71804879e-01\n",
      " -3.68176565e-02  1.12368489e-01 -1.50504326e-01  9.15499268e-01\n",
      " -4.38200267e-01  1.85535621e-01  3.94428030e-01  7.25522558e-01\n",
      "  1.49588477e+00  6.75453809e-01  5.99213235e-01 -1.47023709e+00\n",
      "  6.06403944e-01  2.29371761e+00 -8.30010986e-01 -1.01951985e+00\n",
      " -2.14653842e-01  1.02124813e+00  5.24750492e-01 -4.77124206e-01\n",
      " -3.59901817e-02  1.03703898e+00  6.72619748e-01  2.42887697e+00\n",
      "  1.00568668e+00  3.53567216e-01  6.14726276e-01 -3.48984191e-01\n",
      " -9.77773002e-01  1.71957132e-01  4.90561044e-01 -1.39528303e+00\n",
      " -5.22356465e-01 -3.69255902e-01  2.65642403e-01 -2.60466059e-01\n",
      "  4.45096710e-01  9.81122462e-02  1.06032751e+00 -1.71116766e+00\n",
      "  1.65712464e+00  1.41767401e+00  5.03170861e-02  6.50323214e-01\n",
      "  6.06548400e-01 -7.37289628e-01  1.64665066e-01  7.78174179e-01\n",
      "  3.09816759e-01  1.05132077e+00  9.49961101e-02  8.07509886e-02\n",
      " -7.67803746e-01 -3.64538050e-01 -4.59717681e-01  1.70548352e+00\n",
      "  2.40505552e-01 -9.99426501e-01  3.98598388e-01 -1.92003697e-01\n",
      " -3.05376438e+00  4.79852371e-01 -1.55269878e+00  5.78464420e-01\n",
      " -9.61263599e-01 -1.45832446e+00  4.94341651e-01 -1.49419377e+00\n",
      " -4.46699203e-01  2.04377395e-01  6.12232523e-01  7.44884536e-01\n",
      " -3.62812886e-02 -8.32395348e-01  1.92381543e+00 -6.05981321e-01\n",
      "  1.80358898e+00 -4.52524973e-01  1.16128569e+00  1.06996554e+00\n",
      " -1.04553425e+00  3.55284507e-01  7.55392029e-01  7.00982122e-01\n",
      " -1.98937450e-01  3.01960045e-01 -3.94689681e-01 -1.17181338e+00\n",
      "  9.84012237e-01 -5.59681422e-01  1.37975819e+00  6.02450901e-01\n",
      " -8.92646674e-01 -1.61198320e-01 -2.86384915e-01 -8.70887650e-01\n",
      "  5.01429590e-01 -4.78614074e-01  1.63169151e+00  8.60891241e-01\n",
      " -8.80189065e-01 -1.90005215e-02 -2.26760192e-01 -1.56450785e+00\n",
      "  9.31255679e-01  9.49808815e-01  9.25501215e-01 -4.56987858e-01\n",
      "  1.06898597e+00 -2.09752935e-01  9.35147780e-01  1.81252782e+00\n",
      "  1.40109881e-01 -1.41914878e+00 -3.16901197e-01  6.40985866e-01\n",
      "  1.21987438e+00 -1.13379204e+00 -1.90548298e-01  2.33339126e-01\n",
      "  4.34998324e-01  9.10423603e-01 -9.48439656e-01 -4.23478297e-01\n",
      "  1.00796648e+00  3.92334911e-01  4.48380651e-01  1.12532350e+00\n",
      "  1.04053390e-01  5.28003422e-01 -3.14563862e-01 -1.34501002e+00\n",
      " -1.29525789e+00  7.43205537e-02 -1.99560718e-01 -6.54603169e-01\n",
      "  3.18014296e-01 -8.90271552e-01  1.11337266e-01 -1.95225583e-02\n",
      " -8.39988915e-01 -2.29820588e+00  1.45652739e+00  3.16637236e-01\n",
      " -2.66412594e+00 -4.26428618e-01  3.93787731e-01 -2.28140691e-01\n",
      "  5.80330113e-01 -9.73267585e-01  1.75167729e-01 -5.34836927e-02\n",
      " -1.83061987e-01 -2.21028902e-01  1.99759555e-01  9.32721414e-01\n",
      " -5.30119800e-01 -4.07240024e-01  1.60564992e-01 -1.20149976e-01\n",
      "  3.85602292e-01  7.18290736e-01  1.29118890e+00 -1.16444148e-01\n",
      " -2.27729800e+00 -6.96245395e-02  3.53870427e-01 -1.86955017e-01]\n",
      "The mean is: 0.06613791955417989\n",
      "The sum is: 66.13791955417989\n",
      "The standard deviation is: 1.4378865892551094\n",
      "The maximum is: 4.890834266082559\n",
      "The minimum is: -4.584214060250858\n",
      "The median is: 0.08048547162636999\n"
     ]
    }
   ],
   "source": [
    "np.random.seed(1)\n",
    "A = np.random.randn(1000)\n",
    "print(A)\n",
    "B = np.random.randn(1000)\n",
    "C = A + B\n",
    "print(\"The mean is:\", np.mean(C))\n",
    "print(\"The sum is:\", np.sum(C))\n",
    "print(\"The standard deviation is:\", np.std(C))\n",
    "print(\"The maximum is:\", np.max(C))\n",
    "print(\"The minimum is:\", np.min(C))\n",
    "print(\"The median is:\", np.median(C))"
   ]
  },
  {
   "cell_type": "markdown",
   "metadata": {},
   "source": [
    "**3.4** Compute the element-wise remainder after dividing the defined array B by A. "
   ]
  },
  {
   "cell_type": "code",
   "execution_count": 111,
   "metadata": {},
   "outputs": [
    {
     "name": "stdout",
     "output_type": "stream",
     "text": [
      "[0 3 5 0 0 0 0 2 2 1]\n"
     ]
    }
   ],
   "source": [
    "np.random.seed(1)\n",
    "A = np.random.randint(1,10,10)\n",
    "B = np.random.randint(1,10,10)\n",
    "print(B % A)"
   ]
  },
  {
   "cell_type": "markdown",
   "metadata": {},
   "source": [
    "**3.5** Let $f = x/(1 + x^2) + ln(x) - cos(x)$. After creating an evenly spaced array $x$ between 1 and 11 with 101 elements, compute $f$. To finish, print the mean and standard deviation of the computed array f."
   ]
  },
  {
   "cell_type": "code",
   "execution_count": 87,
   "metadata": {},
   "outputs": [
    {
     "name": "stdout",
     "output_type": "stream",
     "text": [
      "The mean of the array f is: \n",
      "2.019169709739239\n",
      "The standard deviation of the array f is: \n",
      "0.8439365059793181\n"
     ]
    }
   ],
   "source": [
    "A = np.linspace(1, 11, 101)\n",
    "f = A/(1 + A**2) + np.log(A) - np.cos(A)\n",
    "print(\"The mean of the array f is: \")\n",
    "print(np.mean(f))\n",
    "print(\"The standard deviation of the array f is: \")\n",
    "print(np.std(f))"
   ]
  },
  {
   "cell_type": "markdown",
   "metadata": {},
   "source": [
    "## 4. Indexing and slicing  (15 points)"
   ]
  },
  {
   "cell_type": "markdown",
   "metadata": {},
   "source": [
    "**4.1** Replace the values of indices 5,1,2 in A with indices 8,8,2 in B. Note that replacing the values one by one (i.e., A[5] = B[8], A[1] = B[8]...) is not an adequate answer."
   ]
  },
  {
   "cell_type": "code",
   "execution_count": 4,
   "metadata": {},
   "outputs": [
    {
     "name": "stdout",
     "output_type": "stream",
     "text": [
      "[ 0.  2.  8.  3.  4.  2.  6.  7.  8.  9. 10.]\n",
      "<class 'numpy.ndarray'>\n"
     ]
    }
   ],
   "source": [
    "import numpy as np\n",
    "A = np.linspace(0,10,11)\n",
    "B = A[::-1]\n",
    "A[[5, 1, 2]] = B[[8, 8, 2]]\n",
    "print(A)\n",
    "\n",
    "print(type(A))"
   ]
  },
  {
   "cell_type": "markdown",
   "metadata": {},
   "source": [
    "**4.2** Subsample the given 2D array A every 5 elements to create a vector b. Remember to flatten A to a 1D array before subsampling. "
   ]
  },
  {
   "cell_type": "code",
   "execution_count": 10,
   "metadata": {},
   "outputs": [
    {
     "name": "stdout",
     "output_type": "stream",
     "text": [
      "[[ 0  1  2  3  4]\n",
      " [ 5  6  7  8  9]\n",
      " [10 11 12 13 14]\n",
      " [15 16 17 18 19]\n",
      " [20 21 22 23 24]]\n",
      "[ 0  5 10 15 20]\n"
     ]
    }
   ],
   "source": [
    "A = np.arange(25).reshape(5,5)\n",
    "print(A)\n",
    "A = A.ravel()\n",
    "print(A[ : : 5])"
   ]
  },
  {
   "cell_type": "markdown",
   "metadata": {},
   "source": [
    "**4.3** Given the array `lons` defined below, use a Boolean mask to determine the pixels that are above or equal to -60$^o$ and below or equal to 60$^o$. Then compute and print the number of elements that satisfy this condition [Hint: sum the Boolean mask]. "
   ]
  },
  {
   "cell_type": "code",
   "execution_count": 90,
   "metadata": {},
   "outputs": [
    {
     "name": "stdout",
     "output_type": "stream",
     "text": [
      "[-60.   -59.75 -59.5  -59.25 -59.   -58.75 -58.5  -58.25 -58.   -57.75\n",
      " -57.5  -57.25 -57.   -56.75 -56.5  -56.25 -56.   -55.75 -55.5  -55.25\n",
      " -55.   -54.75 -54.5  -54.25 -54.   -53.75 -53.5  -53.25 -53.   -52.75\n",
      " -52.5  -52.25 -52.   -51.75 -51.5  -51.25 -51.   -50.75 -50.5  -50.25\n",
      " -50.   -49.75 -49.5  -49.25 -49.   -48.75 -48.5  -48.25 -48.   -47.75\n",
      " -47.5  -47.25 -47.   -46.75 -46.5  -46.25 -46.   -45.75 -45.5  -45.25\n",
      " -45.   -44.75 -44.5  -44.25 -44.   -43.75 -43.5  -43.25 -43.   -42.75\n",
      " -42.5  -42.25 -42.   -41.75 -41.5  -41.25 -41.   -40.75 -40.5  -40.25\n",
      " -40.   -39.75 -39.5  -39.25 -39.   -38.75 -38.5  -38.25 -38.   -37.75\n",
      " -37.5  -37.25 -37.   -36.75 -36.5  -36.25 -36.   -35.75 -35.5  -35.25\n",
      " -35.   -34.75 -34.5  -34.25 -34.   -33.75 -33.5  -33.25 -33.   -32.75\n",
      " -32.5  -32.25 -32.   -31.75 -31.5  -31.25 -31.   -30.75 -30.5  -30.25\n",
      " -30.   -29.75 -29.5  -29.25 -29.   -28.75 -28.5  -28.25 -28.   -27.75\n",
      " -27.5  -27.25 -27.   -26.75 -26.5  -26.25 -26.   -25.75 -25.5  -25.25\n",
      " -25.   -24.75 -24.5  -24.25 -24.   -23.75 -23.5  -23.25 -23.   -22.75\n",
      " -22.5  -22.25 -22.   -21.75 -21.5  -21.25 -21.   -20.75 -20.5  -20.25\n",
      " -20.   -19.75 -19.5  -19.25 -19.   -18.75 -18.5  -18.25 -18.   -17.75\n",
      " -17.5  -17.25 -17.   -16.75 -16.5  -16.25 -16.   -15.75 -15.5  -15.25\n",
      " -15.   -14.75 -14.5  -14.25 -14.   -13.75 -13.5  -13.25 -13.   -12.75\n",
      " -12.5  -12.25 -12.   -11.75 -11.5  -11.25 -11.   -10.75 -10.5  -10.25\n",
      " -10.    -9.75  -9.5   -9.25  -9.    -8.75  -8.5   -8.25  -8.    -7.75\n",
      "  -7.5   -7.25  -7.    -6.75  -6.5   -6.25  -6.    -5.75  -5.5   -5.25\n",
      "  -5.    -4.75  -4.5   -4.25  -4.    -3.75  -3.5   -3.25  -3.    -2.75\n",
      "  -2.5   -2.25  -2.    -1.75  -1.5   -1.25  -1.    -0.75  -0.5   -0.25\n",
      "   0.     0.25   0.5    0.75   1.     1.25   1.5    1.75   2.     2.25\n",
      "   2.5    2.75   3.     3.25   3.5    3.75   4.     4.25   4.5    4.75\n",
      "   5.     5.25   5.5    5.75   6.     6.25   6.5    6.75   7.     7.25\n",
      "   7.5    7.75   8.     8.25   8.5    8.75   9.     9.25   9.5    9.75\n",
      "  10.    10.25  10.5   10.75  11.    11.25  11.5   11.75  12.    12.25\n",
      "  12.5   12.75  13.    13.25  13.5   13.75  14.    14.25  14.5   14.75\n",
      "  15.    15.25  15.5   15.75  16.    16.25  16.5   16.75  17.    17.25\n",
      "  17.5   17.75  18.    18.25  18.5   18.75  19.    19.25  19.5   19.75\n",
      "  20.    20.25  20.5   20.75  21.    21.25  21.5   21.75  22.    22.25\n",
      "  22.5   22.75  23.    23.25  23.5   23.75  24.    24.25  24.5   24.75\n",
      "  25.    25.25  25.5   25.75  26.    26.25  26.5   26.75  27.    27.25\n",
      "  27.5   27.75  28.    28.25  28.5   28.75  29.    29.25  29.5   29.75\n",
      "  30.    30.25  30.5   30.75  31.    31.25  31.5   31.75  32.    32.25\n",
      "  32.5   32.75  33.    33.25  33.5   33.75  34.    34.25  34.5   34.75\n",
      "  35.    35.25  35.5   35.75  36.    36.25  36.5   36.75  37.    37.25\n",
      "  37.5   37.75  38.    38.25  38.5   38.75  39.    39.25  39.5   39.75\n",
      "  40.    40.25  40.5   40.75  41.    41.25  41.5   41.75  42.    42.25\n",
      "  42.5   42.75  43.    43.25  43.5   43.75  44.    44.25  44.5   44.75\n",
      "  45.    45.25  45.5   45.75  46.    46.25  46.5   46.75  47.    47.25\n",
      "  47.5   47.75  48.    48.25  48.5   48.75  49.    49.25  49.5   49.75\n",
      "  50.    50.25  50.5   50.75  51.    51.25  51.5   51.75  52.    52.25\n",
      "  52.5   52.75  53.    53.25  53.5   53.75  54.    54.25  54.5   54.75\n",
      "  55.    55.25  55.5   55.75  56.    56.25  56.5   56.75  57.    57.25\n",
      "  57.5   57.75  58.    58.25  58.5   58.75  59.    59.25  59.5   59.75\n",
      "  60.  ]\n",
      "The number of elements that satisfy this condition is: \n",
      "481\n"
     ]
    }
   ],
   "source": [
    "minlon = -180.0\n",
    "maxlon = 180.0\n",
    "lons = np.linspace(minlon,maxlon,(maxlon-minlon)/0.25+1)\n",
    "m1 = lons >= -60\n",
    "m2 = lons <= 60\n",
    "mask = m1 & m2\n",
    "ans = lons[mask]\n",
    "print(ans)\n",
    "print(\"The number of elements that satisfy this condition is: \")\n",
    "print(len(ans))"
   ]
  },
  {
   "cell_type": "markdown",
   "metadata": {},
   "source": [
    "**4.4** Given the mask computed above, use the function np.where() to determine the indices of the array A where the mask is True. Print the index of the first element that meets that condition. "
   ]
  },
  {
   "cell_type": "code",
   "execution_count": 91,
   "metadata": {},
   "outputs": [
    {
     "name": "stdout",
     "output_type": "stream",
     "text": [
      "480\n"
     ]
    }
   ],
   "source": [
    "hhh = np.where(mask)\n",
    "print(hhh[0][0])"
   ]
  },
  {
   "cell_type": "markdown",
   "metadata": {},
   "source": [
    "**4.5** Create a checkerboard 4x4 array (zeros and ones). Note that writing the checkerboard array out manually (i.e., A = np.array([[1,0,1,0],[0,1,0,1],...])) is not an adequate answer. You will want to first initialize a 4x4 array of zeros and then fill in with ones where necessary using slicing. "
   ]
  },
  {
   "cell_type": "code",
   "execution_count": 9,
   "metadata": {},
   "outputs": [
    {
     "name": "stdout",
     "output_type": "stream",
     "text": [
      "[[0. 0. 0. 0.]\n",
      " [0. 0. 0. 0.]\n",
      " [0. 0. 0. 0.]\n",
      " [0. 0. 0. 0.]]\n",
      "[[1. 0. 1. 0.]\n",
      " [0. 0. 0. 0.]\n",
      " [1. 0. 1. 0.]\n",
      " [0. 0. 0. 0.]]\n",
      "[[1. 0. 1. 0.]\n",
      " [0. 1. 0. 1.]\n",
      " [1. 0. 1. 0.]\n",
      " [0. 1. 0. 1.]]\n"
     ]
    }
   ],
   "source": [
    "sasa = np.zeros((4,4))\n",
    "print(sasa)\n",
    "sasa[0::2, 0::2] = 1\n",
    "print(sasa)\n",
    "sasa[1::2, 1::2] = 1\n",
    "print(sasa)"
   ]
  },
  {
   "cell_type": "markdown",
   "metadata": {},
   "source": [
    "## 5. Dates (15 points)"
   ]
  },
  {
   "cell_type": "markdown",
   "metadata": {},
   "source": [
    "**5.1** Import the module datetime."
   ]
  },
  {
   "cell_type": "code",
   "execution_count": 93,
   "metadata": {},
   "outputs": [],
   "source": [
    "import datetime"
   ]
  },
  {
   "cell_type": "markdown",
   "metadata": {},
   "source": [
    "**5.2** Construct an instance of the class datetime.datetime for January, 30th, 2019 at 00:35. Print the resulting variable `date`."
   ]
  },
  {
   "cell_type": "code",
   "execution_count": 94,
   "metadata": {},
   "outputs": [
    {
     "name": "stdout",
     "output_type": "stream",
     "text": [
      "2019-01-30 00:35:00\n"
     ]
    }
   ],
   "source": [
    "date = datetime.datetime(2019, 1, 30, 0, 35, 0)\n",
    "print(date)"
   ]
  },
  {
   "cell_type": "markdown",
   "metadata": {},
   "source": [
    "**5.3** Assemble a list of dates consisting of all 3 hourly timestamps of March, 1995. Assume that the first time stamp is March 1st, 2019 at 00:00. Convert the resulting list into an array. Print the 40th element and the size of the resulting array."
   ]
  },
  {
   "cell_type": "code",
   "execution_count": 95,
   "metadata": {},
   "outputs": [
    {
     "name": "stdout",
     "output_type": "stream",
     "text": [
      "The 40th element of the resulting array is: \n",
      "2019-03-06 00:00:00\n",
      "The size of the resulting array is: \n",
      "248\n"
     ]
    }
   ],
   "source": [
    "import datetime\n",
    "import numpy as np\n",
    "\n",
    "idate = datetime.datetime(2019, 3, 1, 0, 0, 0)\n",
    "fdate = datetime.datetime(2019, 3, 31, 23, 59, 59)\n",
    "dt = datetime.timedelta(hours = 3)\n",
    "date = idate\n",
    "dates = []\n",
    "\n",
    "while date <= fdate:\n",
    "    date = date + dt\n",
    "    dates.append(date)\n",
    "\n",
    "datetimearray = np.array(dates)\n",
    "print(\"The 40th element of the resulting array is: \")\n",
    "print(datetimearray[39])\n",
    "print(\"The size of the resulting array is: \")\n",
    "print(datetimearray.size)"
   ]
  },
  {
   "cell_type": "markdown",
   "metadata": {},
   "source": [
    "**5.4** Given the array `dates` defined above, use a Boolean mask to compute all dates that are after March 4th, 2019 at 3:00 am and before March 10th, 2019 at 6:00 pm. Create a new dates array by subsetting the original dates array with the mask. Print the resulting array."
   ]
  },
  {
   "cell_type": "code",
   "execution_count": 96,
   "metadata": {},
   "outputs": [
    {
     "name": "stdout",
     "output_type": "stream",
     "text": [
      "[datetime.datetime(2019, 3, 4, 3, 0) datetime.datetime(2019, 3, 4, 6, 0)\n",
      " datetime.datetime(2019, 3, 4, 9, 0) datetime.datetime(2019, 3, 4, 12, 0)\n",
      " datetime.datetime(2019, 3, 4, 15, 0) datetime.datetime(2019, 3, 4, 18, 0)\n",
      " datetime.datetime(2019, 3, 4, 21, 0) datetime.datetime(2019, 3, 5, 0, 0)\n",
      " datetime.datetime(2019, 3, 5, 3, 0) datetime.datetime(2019, 3, 5, 6, 0)\n",
      " datetime.datetime(2019, 3, 5, 9, 0) datetime.datetime(2019, 3, 5, 12, 0)\n",
      " datetime.datetime(2019, 3, 5, 15, 0) datetime.datetime(2019, 3, 5, 18, 0)\n",
      " datetime.datetime(2019, 3, 5, 21, 0) datetime.datetime(2019, 3, 6, 0, 0)\n",
      " datetime.datetime(2019, 3, 6, 3, 0) datetime.datetime(2019, 3, 6, 6, 0)\n",
      " datetime.datetime(2019, 3, 6, 9, 0) datetime.datetime(2019, 3, 6, 12, 0)\n",
      " datetime.datetime(2019, 3, 6, 15, 0) datetime.datetime(2019, 3, 6, 18, 0)\n",
      " datetime.datetime(2019, 3, 6, 21, 0) datetime.datetime(2019, 3, 7, 0, 0)\n",
      " datetime.datetime(2019, 3, 7, 3, 0) datetime.datetime(2019, 3, 7, 6, 0)\n",
      " datetime.datetime(2019, 3, 7, 9, 0) datetime.datetime(2019, 3, 7, 12, 0)\n",
      " datetime.datetime(2019, 3, 7, 15, 0) datetime.datetime(2019, 3, 7, 18, 0)\n",
      " datetime.datetime(2019, 3, 7, 21, 0) datetime.datetime(2019, 3, 8, 0, 0)\n",
      " datetime.datetime(2019, 3, 8, 3, 0) datetime.datetime(2019, 3, 8, 6, 0)\n",
      " datetime.datetime(2019, 3, 8, 9, 0) datetime.datetime(2019, 3, 8, 12, 0)\n",
      " datetime.datetime(2019, 3, 8, 15, 0) datetime.datetime(2019, 3, 8, 18, 0)\n",
      " datetime.datetime(2019, 3, 8, 21, 0) datetime.datetime(2019, 3, 9, 0, 0)\n",
      " datetime.datetime(2019, 3, 9, 3, 0) datetime.datetime(2019, 3, 9, 6, 0)\n",
      " datetime.datetime(2019, 3, 9, 9, 0) datetime.datetime(2019, 3, 9, 12, 0)\n",
      " datetime.datetime(2019, 3, 9, 15, 0) datetime.datetime(2019, 3, 9, 18, 0)\n",
      " datetime.datetime(2019, 3, 9, 21, 0) datetime.datetime(2019, 3, 10, 0, 0)\n",
      " datetime.datetime(2019, 3, 10, 3, 0) datetime.datetime(2019, 3, 10, 6, 0)\n",
      " datetime.datetime(2019, 3, 10, 9, 0)\n",
      " datetime.datetime(2019, 3, 10, 12, 0)\n",
      " datetime.datetime(2019, 3, 10, 15, 0)\n",
      " datetime.datetime(2019, 3, 10, 18, 0)]\n"
     ]
    }
   ],
   "source": [
    "m1 = datetimearray >= datetime.datetime(2019, 3, 4, 3, 0, 0)\n",
    "m2 = datetimearray <= datetime.datetime(2019, 3, 10, 18, 0, 0)\n",
    "mask = m1 & m2\n",
    "print(datetimearray[mask])"
   ]
  },
  {
   "cell_type": "markdown",
   "metadata": {},
   "source": [
    "## 6. Distance between two points on Earth (15 points)"
   ]
  },
  {
   "cell_type": "markdown",
   "metadata": {},
   "source": [
    "The central angle, $\\Delta \\sigma$, between two different points on the Earth is given by:\n",
    "\n",
    "$\\Delta \\sigma  = \\arccos(\\sin\\phi_1\\sin\\phi_2 + \\cos\\phi_1\\cos\\phi_2\\cos(\\lambda_2 - \\lambda_1))$\n",
    "\n",
    "where $\\lambda_1$ and $\\lambda_2$ are the longitudes and $\\phi_1$ and $\\phi_2$ are the latitudes in radians of points 1 and 2.\n",
    "\n",
    "The distance between the two points in km can then be computed via the arc length by assuming that $R_e = 6371$ km:\n",
    "\n",
    "$d = R_e\\Delta \\sigma$"
   ]
  },
  {
   "cell_type": "markdown",
   "metadata": {},
   "source": [
    "**6.1** Create a function named `compute_distance` that computes the arc length between two points on Earth in km. The function input parameters should be lat1, lon1, lat2, and lon2. Remember that the latitude and longitudes values need to be in radians."
   ]
  },
  {
   "cell_type": "code",
   "execution_count": 97,
   "metadata": {},
   "outputs": [],
   "source": [
    "import numpy as np\n",
    "\n",
    "def compute_distance(lat1, lon1, lat2, lon2):\n",
    "    delta = np.arccos(np.sin(lat1*np.pi/180)*np.sin(lat2*np.pi/180)+np.cos(lat1*np.pi/180)*np.cos(lat2*np.pi/180)*np.cos(lon2*np.pi/180-lon1*np.pi/180))\n",
    "    print(6371 * delta)"
   ]
  },
  {
   "cell_type": "markdown",
   "metadata": {},
   "source": [
    "**6.2** Use the function defined above to compute the distance between Durham, NC and Chicago, IL. The coordinates of Durham, NC are 35.9940$^o$ N and 78.8986$^o$ W. The coordinates of Chicago, IL are 41.8781$^o$ N and 87.6298$^o$ W. Print the computed distance."
   ]
  },
  {
   "cell_type": "code",
   "execution_count": 98,
   "metadata": {},
   "outputs": [
    {
     "name": "stdout",
     "output_type": "stream",
     "text": [
      "998.2333233016485\n"
     ]
    }
   ],
   "source": [
    "lat1 = 35.9940\n",
    "lon1 = 78.8986\n",
    "lat2 = 41.8781\n",
    "lon2 = 87.6298\n",
    "compute_distance(lat1, lon1, lat2, lon2)"
   ]
  },
  {
   "cell_type": "markdown",
   "metadata": {},
   "source": [
    "**6.3** Create a class called point that is initialized using two variables `lat` and `lon`. Then add the `compute_distance` function defined previously as a method. [Hint: See the example of creating and using classes shown in Lecture 2]"
   ]
  },
  {
   "cell_type": "code",
   "execution_count": 99,
   "metadata": {},
   "outputs": [],
   "source": [
    "import numpy as np\n",
    "\n",
    "class point():\n",
    "    def __init__(self, lat, lon):\n",
    "        self.lat = lat\n",
    "        self.lon = lon\n",
    "    \n",
    "    def compute_distance(self, lat2, lon2):\n",
    "        self.distance = 6371 * np.arccos(np.sin(self.lat*np.pi/180)*np.sin(lat2*np.pi/180)+np.cos(self.lat*np.pi/180)*np.cos(lat2*np.pi/180)*np.cos(lon2*np.pi/180-self.lon*np.pi/180))"
   ]
  },
  {
   "cell_type": "markdown",
   "metadata": {},
   "source": [
    "**6.4** Instantiate the class `point` for Durham using the lat and lon values defined in **6.2**."
   ]
  },
  {
   "cell_type": "code",
   "execution_count": 100,
   "metadata": {},
   "outputs": [],
   "source": [
    "lat = 35.9940\n",
    "lon = 78.8986\n",
    "estdistance = point(lat, lon)"
   ]
  },
  {
   "cell_type": "markdown",
   "metadata": {},
   "source": [
    "**6.5** Compute the distance between Durham and Chicago using the object defined in the previous exercise. Note that this will give the same result as **6.2**, however, it will involve using classes instead of a single function."
   ]
  },
  {
   "cell_type": "code",
   "execution_count": 101,
   "metadata": {},
   "outputs": [
    {
     "name": "stdout",
     "output_type": "stream",
     "text": [
      "998.2333233016485\n"
     ]
    }
   ],
   "source": [
    "estdistance.compute_distance(41.8781, 87.6298)\n",
    "print(estdistance.distance)"
   ]
  },
  {
   "cell_type": "markdown",
   "metadata": {},
   "source": [
    "## 7. Parsing filepaths (15 points)"
   ]
  },
  {
   "cell_type": "markdown",
   "metadata": {},
   "source": [
    "The directory `/shared_space/data/NED` contains the entire database of the National Elevation Dataset (NED) which provides maps of elevation over the entire Contiguous United States at a 1 arcsec (~30 meter) spatial resolution. Given the large size of the data, the entire dataset is split into 1$^o$ x 1$^o$ arcdegree boxes. Each file in the directory looks similar to \"dem_lat3637_lon-105-104.tif\". This file contains the elevation information for the region between the latitudes of 36.0 and 37.0 and the longitudes of -105.0 and -104.0. "
   ]
  },
  {
   "cell_type": "markdown",
   "metadata": {},
   "source": [
    "**7.1** Import the module glob"
   ]
  },
  {
   "cell_type": "code",
   "execution_count": 4,
   "metadata": {},
   "outputs": [],
   "source": [
    "import glob"
   ]
  },
  {
   "cell_type": "markdown",
   "metadata": {},
   "source": [
    "**7.2** Use the function glob.glob() to make a list of all the files that end with .tif in the directory defined above. Print the resulting list. [Hint: Use *.tif to only extract the geotiff files]"
   ]
  },
  {
   "cell_type": "code",
   "execution_count": 5,
   "metadata": {},
   "outputs": [
    {
     "name": "stdout",
     "output_type": "stream",
     "text": [
      "/home/jovyan/work/ESDA_zy\n"
     ]
    },
    {
     "ename": "FileNotFoundError",
     "evalue": "[Errno 2] No such file or directory: '/shared_space/data/NED'",
     "output_type": "error",
     "traceback": [
      "\u001b[0;31m\u001b[0m",
      "\u001b[0;31mFileNotFoundError\u001b[0mTraceback (most recent call last)",
      "\u001b[0;32m<ipython-input-5-085ca64852e0>\u001b[0m in \u001b[0;36m<module>\u001b[0;34m\u001b[0m\n\u001b[1;32m      2\u001b[0m \u001b[0;34m\u001b[0m\u001b[0m\n\u001b[1;32m      3\u001b[0m \u001b[0mprint\u001b[0m\u001b[0;34m(\u001b[0m\u001b[0mos\u001b[0m\u001b[0;34m.\u001b[0m\u001b[0mgetcwd\u001b[0m\u001b[0;34m(\u001b[0m\u001b[0;34m)\u001b[0m\u001b[0;34m)\u001b[0m\u001b[0;34m\u001b[0m\u001b[0;34m\u001b[0m\u001b[0m\n\u001b[0;32m----> 4\u001b[0;31m \u001b[0mos\u001b[0m\u001b[0;34m.\u001b[0m\u001b[0mchdir\u001b[0m\u001b[0;34m(\u001b[0m\u001b[0;34m'/shared_space/data/NED'\u001b[0m\u001b[0;34m)\u001b[0m\u001b[0;34m\u001b[0m\u001b[0;34m\u001b[0m\u001b[0m\n\u001b[0m\u001b[1;32m      5\u001b[0m \u001b[0mprint\u001b[0m\u001b[0;34m(\u001b[0m\u001b[0mos\u001b[0m\u001b[0;34m.\u001b[0m\u001b[0mgetcwd\u001b[0m\u001b[0;34m(\u001b[0m\u001b[0;34m)\u001b[0m\u001b[0;34m)\u001b[0m\u001b[0;34m\u001b[0m\u001b[0;34m\u001b[0m\u001b[0m\n\u001b[1;32m      6\u001b[0m \u001b[0;34m\u001b[0m\u001b[0m\n",
      "\u001b[0;31mFileNotFoundError\u001b[0m: [Errno 2] No such file or directory: '/shared_space/data/NED'"
     ]
    }
   ],
   "source": [
    "import os\n",
    "\n",
    "print(os.getcwd())\n",
    "os.chdir('/shared_space/data/NED')\n",
    "print(os.getcwd())\n",
    "\n",
    "file = glob.glob('*.tif')\n",
    "print(\"The resulting list is: \")\n",
    "print(file)"
   ]
  },
  {
   "cell_type": "markdown",
   "metadata": {},
   "source": [
    "**7.3** Print the number of files in the computed list."
   ]
  },
  {
   "cell_type": "code",
   "execution_count": 6,
   "metadata": {},
   "outputs": [
    {
     "ename": "NameError",
     "evalue": "name 'file' is not defined",
     "output_type": "error",
     "traceback": [
      "\u001b[0;31m\u001b[0m",
      "\u001b[0;31mNameError\u001b[0mTraceback (most recent call last)",
      "\u001b[0;32m<ipython-input-6-47f4f6c4cb69>\u001b[0m in \u001b[0;36m<module>\u001b[0;34m\u001b[0m\n\u001b[0;32m----> 1\u001b[0;31m \u001b[0mprint\u001b[0m\u001b[0;34m(\u001b[0m\u001b[0mlen\u001b[0m\u001b[0;34m(\u001b[0m\u001b[0mfile\u001b[0m\u001b[0;34m)\u001b[0m\u001b[0;34m)\u001b[0m\u001b[0;34m\u001b[0m\u001b[0;34m\u001b[0m\u001b[0m\n\u001b[0m",
      "\u001b[0;31mNameError\u001b[0m: name 'file' is not defined"
     ]
    }
   ],
   "source": [
    "print(len(file))"
   ]
  },
  {
   "cell_type": "markdown",
   "metadata": {},
   "source": [
    "**7.4** Subset the previously computed list to extract only files that fall within the bounding box of minlat = 30.0, maxlat = 35.0, minlon = -85.0, and maxlon = -80.0. Print the resulting list and the number of elements in the list. [Hint: You will need to use a for loop, the split() function of strings, slicing of strings, and logical operators to complete this exercise]."
   ]
  },
  {
   "cell_type": "code",
   "execution_count": 7,
   "metadata": {},
   "outputs": [
    {
     "ename": "NameError",
     "evalue": "name 'file' is not defined",
     "output_type": "error",
     "traceback": [
      "\u001b[0;31m\u001b[0m",
      "\u001b[0;31mNameError\u001b[0mTraceback (most recent call last)",
      "\u001b[0;32m<ipython-input-7-2b4a299475d6>\u001b[0m in \u001b[0;36m<module>\u001b[0;34m\u001b[0m\n\u001b[1;32m     10\u001b[0m \u001b[0mfilefinal\u001b[0m \u001b[0;34m=\u001b[0m \u001b[0;34m[\u001b[0m\u001b[0;34m]\u001b[0m\u001b[0;34m\u001b[0m\u001b[0;34m\u001b[0m\u001b[0m\n\u001b[1;32m     11\u001b[0m \u001b[0;34m\u001b[0m\u001b[0m\n\u001b[0;32m---> 12\u001b[0;31m \u001b[0;32mfor\u001b[0m \u001b[0mi\u001b[0m\u001b[0;34m,\u001b[0m \u001b[0mitem\u001b[0m \u001b[0;32min\u001b[0m \u001b[0menumerate\u001b[0m\u001b[0;34m(\u001b[0m\u001b[0mfile\u001b[0m\u001b[0;34m)\u001b[0m\u001b[0;34m:\u001b[0m\u001b[0;34m\u001b[0m\u001b[0;34m\u001b[0m\u001b[0m\n\u001b[0m\u001b[1;32m     13\u001b[0m     \u001b[0mtest1\u001b[0m \u001b[0;34m=\u001b[0m \u001b[0mitem\u001b[0m\u001b[0;34m.\u001b[0m\u001b[0msplit\u001b[0m\u001b[0;34m(\u001b[0m\u001b[0;34m'lat'\u001b[0m\u001b[0;34m)\u001b[0m\u001b[0;34m[\u001b[0m\u001b[0;36m1\u001b[0m\u001b[0;34m]\u001b[0m\u001b[0;34m.\u001b[0m\u001b[0msplit\u001b[0m\u001b[0;34m(\u001b[0m\u001b[0;34m'_lon'\u001b[0m\u001b[0;34m)\u001b[0m\u001b[0;34m[\u001b[0m\u001b[0;36m0\u001b[0m\u001b[0;34m]\u001b[0m\u001b[0;34m\u001b[0m\u001b[0;34m\u001b[0m\u001b[0m\n\u001b[1;32m     14\u001b[0m     \u001b[0mtest2\u001b[0m \u001b[0;34m=\u001b[0m \u001b[0mitem\u001b[0m\u001b[0;34m.\u001b[0m\u001b[0msplit\u001b[0m\u001b[0;34m(\u001b[0m\u001b[0;34m'lat'\u001b[0m\u001b[0;34m)\u001b[0m\u001b[0;34m[\u001b[0m\u001b[0;36m1\u001b[0m\u001b[0;34m]\u001b[0m\u001b[0;34m.\u001b[0m\u001b[0msplit\u001b[0m\u001b[0;34m(\u001b[0m\u001b[0;34m'_lon'\u001b[0m\u001b[0;34m)\u001b[0m\u001b[0;34m[\u001b[0m\u001b[0;36m1\u001b[0m\u001b[0;34m]\u001b[0m\u001b[0;34m.\u001b[0m\u001b[0msplit\u001b[0m\u001b[0;34m(\u001b[0m\u001b[0;34m'.tif'\u001b[0m\u001b[0;34m)\u001b[0m\u001b[0;34m[\u001b[0m\u001b[0;36m0\u001b[0m\u001b[0;34m]\u001b[0m\u001b[0;34m.\u001b[0m\u001b[0msplit\u001b[0m\u001b[0;34m(\u001b[0m\u001b[0;34m'-'\u001b[0m\u001b[0;34m)\u001b[0m\u001b[0;34m\u001b[0m\u001b[0;34m\u001b[0m\u001b[0m\n",
      "\u001b[0;31mNameError\u001b[0m: name 'file' is not defined"
     ]
    }
   ],
   "source": [
    "minlat = 30.0\n",
    "maxlat = 35.0\n",
    "minlon = 80.0\n",
    "maxlon = 85.0\n",
    "\n",
    "minlatt = []\n",
    "maxlatt = []\n",
    "maxlonn = []\n",
    "minlonn = []\n",
    "filefinal = []\n",
    "\n",
    "for i, item in enumerate(file):\n",
    "    test1 = item.split('lat')[1].split('_lon')[0]\n",
    "    test2 = item.split('lat')[1].split('_lon')[1].split('.tif')[0].split('-')\n",
    "    minlatt.append(test1[0:2])\n",
    "    maxlatt.append(test1[2:4])\n",
    "    maxlonn.append(test2[1])\n",
    "    minlonn.append(test2[2])\n",
    "    minlatt = list(map(int, minlatt))\n",
    "    maxlatt = list(map(int, maxlatt))\n",
    "    maxlonn = list(map(int, maxlonn))\n",
    "    minlonn = list(map(int, minlonn))\n",
    "    if minlatt[i] >= minlat and maxlatt[i] <= maxlat and maxlonn[i] <= maxlon and minlonn[i] >= minlon:\n",
    "        filefinal.append(file[i])\n",
    "\n",
    "print(\"The list of files fall within the bounding box is: \")\n",
    "print(filefinal)\n",
    "print(\"\\nThe number of elements in the list is: \")\n",
    "print(len(filefinal))"
   ]
  },
  {
   "cell_type": "code",
   "execution_count": null,
   "metadata": {},
   "outputs": [],
   "source": []
  }
 ],
 "metadata": {
  "kernelspec": {
   "display_name": "Python 3",
   "language": "python",
   "name": "python3"
  },
  "language_info": {
   "codemirror_mode": {
    "name": "ipython",
    "version": 3
   },
   "file_extension": ".py",
   "mimetype": "text/x-python",
   "name": "python",
   "nbconvert_exporter": "python",
   "pygments_lexer": "ipython3",
   "version": "3.7.3"
  }
 },
 "nbformat": 4,
 "nbformat_minor": 2
}
